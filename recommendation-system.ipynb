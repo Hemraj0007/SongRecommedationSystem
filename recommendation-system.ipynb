{
 "cells": [
  {
   "cell_type": "code",
   "execution_count": null,
   "metadata": {
    "_uuid": "615d54795549a1c3b2b5a259829a833f9fb76afe",
    "collapsed": true
   },
   "outputs": [],
   "source": [
    "import numpy as np\n",
    "import pandas as pd \n",
    "import seaborn as sns \n",
    "import matplotlib.pyplot as plt\n",
    "import missingno as msno\n",
    "import gc\n",
    "from sklearn.model_selection import cross_val_score,GridSearchCV,train_test_split\n",
    "from sklearn.tree import DecisionTreeClassifier,ExtraTreeClassifier\n",
    "from sklearn.metrics import roc_curve,roc_auc_score,classification_report,mean_squared_error,accuracy_score\n",
    "from sklearn.ensemble import GradientBoostingClassifier,RandomForestClassifier,BaggingClassifier,VotingClassifier,AdaBoostClassifier"
   ]
  },
  {
   "cell_type": "raw",
   "metadata": {
    "_uuid": "5a38807e403db3b721ed0589313570127d830fe2"
   },
   "source": [
    "In this task, you will be asked to predict the chances of a user listening to a song repetitively after the first observable listening event within a time window was triggered. If there are recurring listening event(s) triggered within a month after the user’s very first observable listening event, its target is marked 1, and 0 otherwise in the training set. The same rule applies to the testing set.\n",
    "\n",
    "KKBOX provides a training data set consists of information of the first observable listening event for each unique user-song pair within a specific time duration. Metadata of each unique user and song pair is also provided. The use of public data to increase the level of accuracy of your prediction is encouraged.\n",
    "\n",
    "The train and the test data are selected from users listening history in a given time period. Note that this time period is chosen to be before the WSDM-KKBox Churn Prediction time period. The train and test sets are split based on time, and the split of public/private are based on unique user/song pairs.\n",
    "\n",
    "Tables train.csv\n",
    "msno: user id\n",
    "song_id: song id\n",
    "source_system_tab: the name of the tab where the event was triggered. System tabs are used to categorize KKBOX mobile apps functions. For example, tab my library contains functions to manipulate the local storage, and tab search contains functions relating to search.\n",
    "source_screen_name: name of the layout a user sees.\n",
    "source_type: an entry point a user first plays music on mobile apps. An entry point could be album, online-playlist, song .. etc.\n",
    "target: this is the target variable. target=1 means there are recurring listening event(s) triggered within a month after the user’s very first observable listening event, target=0 otherwise .\n",
    "test.csv\n",
    "id: row id (will be used for submission)\n",
    "msno: user id\n",
    "song_id: song id\n",
    "source_system_tab: the name of the tab where the event was triggered. System tabs are used to categorize KKBOX mobile apps functions. For example, tab my library contains functions to manipulate the local storage, and tab search contains functions relating to search.\n",
    "source_screen_name: name of the layout a user sees.\n",
    "source_type: an entry point a user first plays music on mobile apps. An entry point could be album, online-playlist, song .. etc.\n",
    "sample_submission.csv\n",
    "sample submission file in the format that we expect you to submit\n",
    "\n",
    "id: same as id in test.csv\n",
    "target: this is the target variable. target=1 means there are recurring listening event(s) triggered within a month after the user’s very first observable listening event, target=0 otherwise .\n",
    "songs.csv\n",
    "The songs. Note that data is in unicode.\n",
    "\n",
    "song_id\n",
    "song_length: in ms\n",
    "genre_ids: genre category. Some songs have multiple genres and they are separated by |\n",
    "artist_name\n",
    "composer\n",
    "lyricist\n",
    "language\n",
    "members.csv\n",
    "user information.\n",
    "\n",
    "msno\n",
    "city\n",
    "bd: age. Note: this column has outlier values, please use your judgement.\n",
    "gender\n",
    "registered_via: registration method\n",
    "registration_init_time: format %Y%m%d\n",
    "expiration_date: format %Y%m%d\n",
    "song_extra_info.csv\n",
    "song_id\n",
    "song name - the name of the song.\n",
    "isrc - International Standard Recording Code, theoretically can be used as an identity of a song. However, what worth to note is, ISRCs generated from providers have not been officially verified; therefore the information in ISRC, such as country code and reference year, can be misleading/incorrect. Multiple songs could share one ISRC since a single recording could be re-published several times."
   ]
  },
  {
   "cell_type": "code",
   "execution_count": null,
   "metadata": {
    "_uuid": "328cbb71132581fec50b7f10e0ff118e17da1d5e",
    "collapsed": true
   },
   "outputs": [],
   "source": [
    "import lightgbm as lgb\n",
    "from sklearn.metrics import precision_recall_curve,roc_auc_score,classification_report,roc_curve\n",
    "from tqdm import tqdm"
   ]
  },
  {
   "cell_type": "markdown",
   "metadata": {
    "_uuid": "25c215687078bd74e7ee4c328cdfdefd2cd39d5e"
   },
   "source": [
    "# AS we  have imported necessary modules now we can start with\n",
    "\n",
    "# EDA (Exploratory Data Analysis) with wrangling of data and visualizing\n",
    "\n",
    "# The necessary thing for out statiscal analysis as well insights of our data \n",
    "\n",
    "# Last steps would be data imputations , merging , cross validations , \n",
    "\n",
    "# Hyperparmaters tuning and visualization of every algowhat we used what are\n",
    "\n",
    "# It's result with Time consumption of algos producing the results"
   ]
  },
  {
   "cell_type": "code",
   "execution_count": null,
   "metadata": {
    "_uuid": "8dffd3dcdb1a46d8c558cba0981b10b86718afbe",
    "collapsed": true
   },
   "outputs": [],
   "source": [
    "from subprocess import check_output\n",
    "\n",
    "train = pd.read_csv('../input/train.csv')\n",
    "test = pd.read_csv('../input/test.csv')\n",
    "songs = pd.read_csv('../input/songs.csv')\n",
    "members = pd.read_csv('../input/members.csv')\n",
    "sample = pd.read_csv('../input/sample_submission.csv')"
   ]
  },
  {
   "cell_type": "code",
   "execution_count": null,
   "metadata": {
    "_uuid": "014a2bee5f104270324607afced471433b265329",
    "collapsed": true
   },
   "outputs": [],
   "source": [
    "train.head()"
   ]
  },
  {
   "cell_type": "code",
   "execution_count": null,
   "metadata": {
    "_uuid": "a149f2dbca3ecadb2181cc7afcf5d5a29a6e8262",
    "collapsed": true
   },
   "outputs": [],
   "source": [
    "test.head()"
   ]
  },
  {
   "cell_type": "code",
   "execution_count": null,
   "metadata": {
    "_uuid": "6c2f34469d2a913b60728d543d4d79e71c44aba8",
    "collapsed": true
   },
   "outputs": [],
   "source": [
    "songs.head()"
   ]
  },
  {
   "cell_type": "code",
   "execution_count": null,
   "metadata": {
    "_uuid": "8d709f943d1f36abe93fec8afab68f2866154d73",
    "collapsed": true
   },
   "outputs": [],
   "source": [
    "members.head()"
   ]
  },
  {
   "cell_type": "code",
   "execution_count": null,
   "metadata": {
    "_uuid": "ed927da3814d6bfd571bb6c34725973e242f21c4",
    "collapsed": true
   },
   "outputs": [],
   "source": [
    "sample.head()\n",
    "members.shape\n",
    "train.info()\n",
    "print(\"\\n\")\n",
    "songs.info()\n",
    "print(\"\\n\")\n",
    "members.info()"
   ]
  },
  {
   "cell_type": "code",
   "execution_count": null,
   "metadata": {
    "_uuid": "6d13597482efa1d58c936a58530b2c9dff31b0b4",
    "collapsed": true
   },
   "outputs": [],
   "source": [
    "plt.figure(figsize=(20,15))\n",
    "sns.set(font_scale=2)\n",
    "sns.countplot(x='source_type',hue='source_type',data=train)\n",
    "sns.set(style=\"darkgrid\")\n",
    "plt.xlabel('source types',fontsize=30)\n",
    "plt.ylabel('count',fontsize=30)\n",
    "plt.xticks(rotation='45')\n",
    "plt.title('Count plot source types for listening music',fontsize=30)\n",
    "plt.tight_layout()"
   ]
  },
  {
   "cell_type": "markdown",
   "metadata": {
    "_uuid": "ca72dec74f569d59076c62924f27da6e3ec1ebf8"
   },
   "source": [
    "# First visualization we can see as if local library are more perffered than any other source types as well after that online playlist and local playlist and other features are showing less importance but can't say anything right now as we handn't deal with cleaning , imputing , stats \n",
    "\n",
    "# But as far we are sure are answers for buliding this systems in revolving maximum issues around local library see next what other result say "
   ]
  },
  {
   "cell_type": "code",
   "execution_count": null,
   "metadata": {
    "_uuid": "c51c6420f9354fc0e0b588257d50f190d8596f32",
    "collapsed": true
   },
   "outputs": [],
   "source": [
    "plt.figure(figsize=(20,15))\n",
    "sns.set(font_scale=2)\n",
    "sns.countplot(y='source_screen_name',data=train,facecolor=(0,0,0,0),linewidth=5,edgecolor=sns.color_palette('dark',3))\n",
    "sns.set(style=\"darkgrid\")\n",
    "plt.xlabel('source types',fontsize=30)\n",
    "plt.ylabel('count',fontsize=30)\n",
    "plt.xticks(rotation='45')\n",
    "plt.title('Count plot for which  screen using ',fontsize=30)\n",
    "plt.tight_layout()"
   ]
  },
  {
   "cell_type": "markdown",
   "metadata": {
    "_uuid": "042dc943d6a009be2ba378826683df61fc9cf8aa"
   },
   "source": [
    "# Second Visualization is telling us that most of the users are listenning local      \n",
    "# playlist more means the app which is provided by the company they are using them apart from this we can also see that after this most the users are coming back to the songs by online playlist sources \n",
    "\n",
    "# Very less from the other different sources means are outliers , variance and std deviations are in 2 areas local libs and online playlist \n"
   ]
  },
  {
   "cell_type": "code",
   "execution_count": null,
   "metadata": {
    "_uuid": "199caf38d3c85c3f8b86115dd9555e3d4af1c2fc",
    "collapsed": true
   },
   "outputs": [],
   "source": [
    "plt.figure(figsize=(20,15))\n",
    "sns.set(font_scale=2)\n",
    "sns.countplot(x='source_system_tab',hue='source_system_tab',data=train)\n",
    "sns.set(style=\"darkgrid\")\n",
    "plt.xlabel('source types',fontsize=30)\n",
    "plt.ylabel('count',fontsize=30)\n",
    "plt.xticks(rotation='45')\n",
    "plt.title('Count plot for system tab there are using',fontsize=30)\n",
    "plt.tight_layout()"
   ]
  },
  {
   "cell_type": "markdown",
   "metadata": {
    "_uuid": "57fdb92e61377ac6f7abeb028fc78b316a440f8b"
   },
   "source": [
    "# so anyone who has installed KKBOX app we can see most of the users are going back to there songs via my library rather discovering them means there are different sources they can go back but most preffered one is my library \n",
    "\n",
    "# now doing some visualiaztion in members.csv"
   ]
  },
  {
   "cell_type": "code",
   "execution_count": null,
   "metadata": {
    "_uuid": "8886168486eb3c5a18d11d1da4bbea87864358fe",
    "collapsed": true
   },
   "outputs": [],
   "source": [
    "import matplotlib as mpl\n",
    "\n",
    "mpl.rcParams['font.size'] = 40.0\n",
    "labels = ['Male','Female']\n",
    "plt.figure(figsize = (12, 12))\n",
    "sizes = pd.value_counts(members.gender)\n",
    "patches, texts, autotexts = plt.pie(sizes, \n",
    "                                    labels=labels, autopct='%.0f%%',\n",
    "                                    shadow=False, radius=1,startangle=90)\n",
    "for t in texts:\n",
    "    t.set_size('smaller')\n",
    "plt.legend()\n",
    "plt.show()\n"
   ]
  },
  {
   "cell_type": "markdown",
   "metadata": {
    "_uuid": "8005457d1b381e8f3dece1ae4f721fb3189ee61c"
   },
   "source": [
    "# As we can see we have male users more now visualization has to be done in this manner like from how many types genders which are popular ways to go back in there playlist"
   ]
  },
  {
   "cell_type": "code",
   "execution_count": null,
   "metadata": {
    "_uuid": "702d1cc5354c6c1a9d4c5302aa744ad4dff1bb1a",
    "collapsed": true
   },
   "outputs": [],
   "source": [
    "import matplotlib.pyplot as plt\n",
    "mpl.rcParams['font.size'] = 40.0\n",
    "plt.figure(figsize = (20, 20)) \n",
    "# Make data: I have 3 groups and 7 subgroups\n",
    "group_names=['explore','my library','search','discover','radio','listen with','notification','settings']\n",
    "group_size=pd.value_counts(train.source_system_tab)\n",
    "print(group_size)\n",
    "subgroup_names=['Male','Female']\n",
    "subgroup_size=pd.value_counts(members.gender)\n",
    " \n",
    "# Create colors\n",
    "a, b, c,d,e,f,g,h=[plt.cm.autumn, plt.cm.GnBu, plt.cm.YlGn,plt.cm.Purples,plt.cm.cool,plt.cm.RdPu,plt.cm.BuPu,plt.cm.bone]\n",
    " \n",
    "# First Ring (outside)\n",
    "fig, ax = plt.subplots()\n",
    "ax.axis('equal')\n",
    "mypie, texts= ax.pie(group_size, radius=3.0,labels=group_names, colors=[a(0.6), b(0.6), c(0.6),d(0.6), e(0.6), f(0.6),g(0.6)])\n",
    "plt.setp( mypie, width=0.3, edgecolor='white')\n",
    " \n",
    "# Second Ring (Inside)\n",
    "#mypie2, texts1 = ax.pie(subgroup_size, radius=3.0-0.3, labels=subgroup_names, labeldistance=0.7, colors=[h(0.5), b(0.4)])\n",
    "#plt.setp( mypie2, width=0.3, edgecolor='white')\n",
    "#plt.margins(0,0)\n",
    "#for t in texts:\n",
    " #   t.set_size(25.0)\n",
    "#for t in texts1:\n",
    " \n",
    "    #t.set_size(25.0)    \n",
    "plt.legend() \n",
    "# show it\n",
    "plt.show()\n"
   ]
  },
  {
   "cell_type": "markdown",
   "metadata": {
    "_uuid": "0ce57a9f3747f43cab8b8295dcd3809412f9d5a9"
   },
   "source": [
    "# Inferences we can draw from this chart that among Men exploration method is only way they are using while females are using every possible way to get back their music of choices , in real world this thing also very much similar that men focuses in one direction in depth whereas women focuses in every possible direction but not in depth\n",
    "\n",
    "# We are moving in right direction of building a good accurate systems"
   ]
  },
  {
   "cell_type": "markdown",
   "metadata": {
    "_uuid": "77e777cc5a2862dc23969a1702533c2c546f01fc"
   },
   "source": [
    "# now some statistics inferences \n",
    "# as we have numeric data in tow csv files and rest of the files with categorical data so members.csv file with 2 columns in numeric and song.csv "
   ]
  },
  {
   "cell_type": "code",
   "execution_count": null,
   "metadata": {
    "_uuid": "0f492fb1630d4813dade17d67f29061afc704856",
    "collapsed": true
   },
   "outputs": [],
   "source": [
    "print(members.describe())"
   ]
  },
  {
   "cell_type": "code",
   "execution_count": null,
   "metadata": {
    "_uuid": "bf74a03598318f86c2764ae63118b27043aabffb",
    "collapsed": true
   },
   "outputs": [],
   "source": [
    "print(songs.describe())"
   ]
  },
  {
   "cell_type": "markdown",
   "metadata": {
    "_uuid": "b60345d4d110ff55c04755b089b7078e1dbb3845"
   },
   "source": [
    "# doing stats test on members.csv"
   ]
  },
  {
   "cell_type": "code",
   "execution_count": null,
   "metadata": {
    "_uuid": "8f670e9ad20daa7bb9b3c557e74e9d969bab2491",
    "collapsed": true
   },
   "outputs": [],
   "source": [
    "mpl.rcParams['font.size'] = 40.0\n",
    "plt.figure(figsize = (20, 20)) \n",
    "sns.distplot(members.registration_init_time)\n",
    "sns.set(font_scale=2)\n",
    "plt.ylabel('ecdf',fontsize=50)\n",
    "plt.xlabel('registration time ' ,fontsize=50)\n",
    "\n"
   ]
  },
  {
   "cell_type": "markdown",
   "metadata": {
    "_uuid": "274a4c8990ddab90f24009fc079a8a24123d9a65"
   },
   "source": [
    "# inferences we can drawn from above two result that maximum registration were done in time period of 2012 to 2016 and most this righthand skewed graph one more thing before applying we have to normalize it "
   ]
  },
  {
   "cell_type": "code",
   "execution_count": null,
   "metadata": {
    "_uuid": "cb11d7aab9a3b988e8465a09a2c9e6ff811d83b7",
    "collapsed": true
   },
   "outputs": [],
   "source": [
    "members.describe()"
   ]
  },
  {
   "cell_type": "code",
   "execution_count": null,
   "metadata": {
    "_uuid": "1ae2dd258a18f5ee08abc372b458a28efe8ff43c",
    "collapsed": true
   },
   "outputs": [],
   "source": [
    "songs.describe()"
   ]
  },
  {
   "cell_type": "code",
   "execution_count": null,
   "metadata": {
    "_uuid": "5c3398eb8854c2f2f360f71080253f77bb9bb63b",
    "collapsed": true
   },
   "outputs": [],
   "source": [
    "train.describe()"
   ]
  },
  {
   "cell_type": "code",
   "execution_count": null,
   "metadata": {
    "_uuid": "8d503a6e3f00073b7b536439f6546391430e66eb",
    "collapsed": true
   },
   "outputs": [],
   "source": [
    "train.info()"
   ]
  },
  {
   "cell_type": "code",
   "execution_count": null,
   "metadata": {
    "_uuid": "705e9b08e41e9dfce7c50e94d3d4d3f75eecad3e",
    "collapsed": true
   },
   "outputs": [],
   "source": [
    "members.info()"
   ]
  },
  {
   "cell_type": "markdown",
   "metadata": {
    "_uuid": "6382f45978a965a288efe33e1d9dccfac04bd1de"
   },
   "source": [
    "# we can see that in members and songs csv files large differences bet min and max values which gives inferences that there are outliers in the csv files which has to be removed before making system "
   ]
  },
  {
   "cell_type": "markdown",
   "metadata": {
    "_uuid": "6c2b080c718be1757397e93fee143223b84ecd96"
   },
   "source": [
    "# Data conversion of int , float and categorical has to be done to reduce the data size for computation as well as storage "
   ]
  },
  {
   "cell_type": "code",
   "execution_count": null,
   "metadata": {
    "_uuid": "8933dc34e6df43b89ec28706f14f81b3d659ccf2",
    "collapsed": true
   },
   "outputs": [],
   "source": [
    "train_members = pd.merge(train, members, on='msno', how='inner')\n",
    "train_merged = pd.merge(train_members, songs, on='song_id', how='outer')\n",
    "print(train_merged.head())"
   ]
  },
  {
   "cell_type": "code",
   "execution_count": null,
   "metadata": {
    "_uuid": "ad418b8f0fe832a654738d5664dbba215f68c4c1",
    "collapsed": true
   },
   "outputs": [],
   "source": [
    "test_members = pd.merge(test, members, on='msno', how='inner')\n",
    "test_merged = pd.merge(test_members, songs, on='song_id', how='outer')\n",
    "print(test_merged.head())\n",
    "print(len(test_merged.columns))"
   ]
  },
  {
   "cell_type": "code",
   "execution_count": null,
   "metadata": {
    "_uuid": "713e21fe330112e89a634a1601bdd7bfeae12bd2",
    "collapsed": true
   },
   "outputs": [],
   "source": [
    "del train_members\n",
    "del test_members"
   ]
  },
  {
   "cell_type": "code",
   "execution_count": null,
   "metadata": {
    "_uuid": "d13226b3d7d282d78ecf60435c026eb42199663f",
    "collapsed": true
   },
   "outputs": [],
   "source": [
    "ax = sns.countplot(y=train_merged.dtypes, data=train_merged)"
   ]
  },
  {
   "cell_type": "code",
   "execution_count": null,
   "metadata": {
    "_uuid": "693861309ca4273aa0ed8f5b8d64aea40c07d86f",
    "collapsed": true
   },
   "outputs": [],
   "source": [
    "print(train_merged.columns.to_series().groupby(train_merged.dtypes).groups)\n",
    "print(test_merged.columns.to_series().groupby(test_merged.dtypes).groups)"
   ]
  },
  {
   "cell_type": "markdown",
   "metadata": {
    "_uuid": "633c04d03506189ea2248ad7141a189885ec57d6"
   },
   "source": [
    "# Analysis on missing values \n"
   ]
  },
  {
   "cell_type": "code",
   "execution_count": null,
   "metadata": {
    "_uuid": "5b3e9b3a12fa42574f236d78951b816bd046baa8",
    "collapsed": true
   },
   "outputs": [],
   "source": [
    "msno.heatmap(train_merged)\n",
    "#msno.matrix(train_merged)"
   ]
  },
  {
   "cell_type": "markdown",
   "metadata": {
    "_uuid": "2af6408d0aa99d5976e16877f0c77e3862ff673d"
   },
   "source": [
    "# as we can see lot of missing values are coming up but when common thing we notice that most of the missing values are arrived from members and songs\n"
   ]
  },
  {
   "cell_type": "markdown",
   "metadata": {
    "_uuid": "3a019f561631a911213fe149c73c943754173cb2"
   },
   "source": [
    "# missing values from the heatmap also showing one thing that information which are missing and has positive correlation are gender with 4 variables of train.csv and rest of varibales with members.csv"
   ]
  },
  {
   "cell_type": "code",
   "execution_count": null,
   "metadata": {
    "_uuid": "ee6e83b0e9803f1400384447e03033ae390ad1dd",
    "collapsed": true
   },
   "outputs": [],
   "source": [
    "#msno.dendrogram(train_merged)"
   ]
  },
  {
   "cell_type": "markdown",
   "metadata": {
    "_uuid": "cc1710c64486422feaf3f628f970e67b95eefa6c"
   },
   "source": [
    "# A strong nullity correlation here we can see \n",
    "# song id -> lang, song_len,artist name, genre_id\n",
    "# composer -> lyricst\n",
    "# gender -> with song_id\n",
    "\n",
    "# from heatmap we can say if gender is missing 70% missing values will be in msno , target city etc "
   ]
  },
  {
   "cell_type": "markdown",
   "metadata": {
    "_uuid": "806582f0f58ab85819737eee7d10259c999acd3d"
   },
   "source": [
    "# Now checking missing values and replacing them with some unique values "
   ]
  },
  {
   "cell_type": "code",
   "execution_count": null,
   "metadata": {
    "_uuid": "2f225e3e8c05fd82e67f906f2c5ec06af9e8155a",
    "collapsed": true
   },
   "outputs": [],
   "source": [
    "#--- Function to check if missing values are present and if so print the columns having them ---\n",
    "def check_missing_values(df):\n",
    "    print (df.isnull().values.any())\n",
    "    if (df.isnull().values.any() == True):\n",
    "        columns_with_Nan = df.columns[df.isnull().any()].tolist()\n",
    "    print(columns_with_Nan)\n",
    "    for col in columns_with_Nan:\n",
    "        print(\"%s : %d\" % (col, df[col].isnull().sum()))\n",
    "    \n",
    "check_missing_values(train_merged)\n",
    "check_missing_values(test_merged)"
   ]
  },
  {
   "cell_type": "code",
   "execution_count": null,
   "metadata": {
    "_uuid": "b17a98adf1d7a98e308ddd024924b0492a3f8c14",
    "collapsed": true
   },
   "outputs": [],
   "source": [
    "#--- Function to replace Nan values in columns of type float with -5 ---\n",
    "def replace_Nan_non_object(df):\n",
    "    object_cols = list(df.select_dtypes(include=['float']).columns)\n",
    "    for col in object_cols:\n",
    "        df[col]=df[col].fillna(np.int(-5))\n",
    "       \n",
    "replace_Nan_non_object(train_merged) \n",
    "replace_Nan_non_object(test_merged)  "
   ]
  },
  {
   "cell_type": "code",
   "execution_count": null,
   "metadata": {
    "_uuid": "788541d70c95d6863b35df0164bd7e0e34211f72",
    "collapsed": true
   },
   "outputs": [],
   "source": [
    "#--- memory consumed by train dataframe ---\n",
    "mem = train_merged.memory_usage(index=True).sum()\n",
    "print(\"Memory consumed by training set  :   {} MB\" .format(mem/ 1024**2))\n",
    " \n",
    "#--- memory consumed by test dataframe ---\n",
    "mem = test_merged.memory_usage(index=True).sum()\n",
    "print(\"Memory consumed by test set      :   {} MB\" .format(mem/ 1024**2))"
   ]
  },
  {
   "cell_type": "code",
   "execution_count": null,
   "metadata": {
    "_uuid": "627f01a479c839b35aa5ead6b5c2cb97ae25e6ad",
    "collapsed": true
   },
   "outputs": [],
   "source": [
    "def change_datatype(df):\n",
    "    float_cols = list(df.select_dtypes(include=['float']).columns)\n",
    "    for col in float_cols:\n",
    "        if ((np.max(df[col]) <= 127) and(np.min(df[col] >= -128))):\n",
    "            df[col] = df[col].astype(np.int8)\n",
    "        elif ((np.max(df[col]) <= 32767) and(np.min(df[col] >= -32768))):\n",
    "            df[col] = df[col].astype(np.int16)\n",
    "        elif ((np.max(df[col]) <= 2147483647) and(np.min(df[col] >= -2147483648))):\n",
    "            df[col] = df[col].astype(np.int32)\n",
    "        else:\n",
    "            df[col] = df[col].astype(np.int64)\n",
    "\n",
    "change_datatype(train_merged)\n",
    "change_datatype(test_merged)"
   ]
  },
  {
   "cell_type": "code",
   "execution_count": null,
   "metadata": {
    "_uuid": "a5eff6a9c0194aaafdc65597b077e38089a47788",
    "collapsed": true
   },
   "outputs": [],
   "source": [
    "data = train_merged.groupby('target').aggregate({'msno':'count'}).reset_index()\n",
    "a4_dims = (15, 8)\n",
    "fig, ax = plt.subplots(figsize=a4_dims)\n",
    "ax = sns.barplot(x='target', y='msno', data=data)"
   ]
  },
  {
   "cell_type": "markdown",
   "metadata": {
    "_uuid": "ccd3d22c06ed8f1dc290c91ae07e8bfa78a58266"
   },
   "source": [
    "# as we can see that new user are about 5500 and old users about 15000  , \n",
    "# *-5 are those values which are empty \n"
   ]
  },
  {
   "cell_type": "code",
   "execution_count": null,
   "metadata": {
    "_uuid": "64a5020204025eb9b24e830a47e803ef9a2d6478",
    "collapsed": true
   },
   "outputs": [],
   "source": [
    "mpl.rcParams['font.size'] = 40.0\n",
    "plt.figure(figsize = (20, 20)) \n",
    "data=train_merged.groupby('source_system_tab').aggregate({'msno':'count'}).reset_index()\n",
    "sns.barplot(x='source_system_tab',y='msno',data=data)"
   ]
  },
  {
   "cell_type": "code",
   "execution_count": null,
   "metadata": {
    "_uuid": "e17a6a2ab5bc189db9e1f96779faaa4ccc2adaca",
    "collapsed": true
   },
   "outputs": [],
   "source": [
    "data = train_merged.groupby('source_screen_name').aggregate({'msno':'count'}).reset_index()\n",
    "a4_dims = (15, 7)\n",
    "fig, ax = plt.subplots(figsize=a4_dims)\n",
    "ax = sns.barplot(x='source_screen_name', y='msno', data=data)\n",
    "ax.set_xticklabels(ax.get_xticklabels(), rotation=90)"
   ]
  },
  {
   "cell_type": "code",
   "execution_count": null,
   "metadata": {
    "_uuid": "1f986df25f71056feb2cad4276281c46c0717151",
    "collapsed": true
   },
   "outputs": [],
   "source": [
    "data = train_merged.groupby('source_type').aggregate({'msno':'count'}).reset_index()\n",
    "a4_dims = (15, 7)\n",
    "fig, ax = plt.subplots(figsize=a4_dims)\n",
    "ax = sns.barplot(x='source_type', y='msno', data=data)\n",
    "ax.set_xticklabels(ax.get_xticklabels(), rotation=90)"
   ]
  },
  {
   "cell_type": "code",
   "execution_count": null,
   "metadata": {
    "_uuid": "b8241ff1bbebb04e01caa32804158ca89226cfaa",
    "collapsed": true
   },
   "outputs": [],
   "source": [
    "data = train_merged.groupby('language').aggregate({'msno':'count'}).reset_index()\n",
    "a4_dims = (15, 7)\n",
    "fig, ax = plt.subplots(figsize=a4_dims)\n",
    "ax = sns.barplot(x='language', y='msno', data=data)\n",
    "ax.set_xticklabels(ax.get_xticklabels(), rotation=90)"
   ]
  },
  {
   "cell_type": "code",
   "execution_count": null,
   "metadata": {
    "_uuid": "1dd414edddb096b4f407db5c95af457b27b0fd80",
    "collapsed": true
   },
   "outputs": [],
   "source": [
    "data = train_merged.groupby('registered_via').aggregate({'msno':'count'}).reset_index()\n",
    "a4_dims = (15, 7)\n",
    "fig, ax = plt.subplots(figsize=a4_dims)\n",
    "ax = sns.barplot(x='registered_via', y='msno', data=data)\n",
    "ax.set_xticklabels(ax.get_xticklabels(), rotation=90)"
   ]
  },
  {
   "cell_type": "markdown",
   "metadata": {
    "_uuid": "45012a06e098aefa358f2bfdd0f8263ff79922df"
   },
   "source": [
    "# most users 7 and 9 ways to get registered"
   ]
  },
  {
   "cell_type": "code",
   "execution_count": null,
   "metadata": {
    "_uuid": "aa68591760d08a4088b244536ae5e707f29f4aef",
    "collapsed": true
   },
   "outputs": [],
   "source": [
    "print(train_merged.columns)\n",
    "data = train_merged.groupby('city').aggregate({'msno':'count'}).reset_index()\n",
    "a4_dims = (15, 7)\n",
    "fig, ax = plt.subplots(figsize=a4_dims)\n",
    "ax = sns.barplot(x='city', y='msno', data=data)\n",
    "ax.set_xticklabels(ax.get_xticklabels(), rotation=90)"
   ]
  },
  {
   "cell_type": "markdown",
   "metadata": {
    "_uuid": "5409a6b1f5e93c6a9c4e1889de6d00945ff10af8"
   },
   "source": [
    "# no of users are 1,13,5 are containig maximum values "
   ]
  },
  {
   "cell_type": "code",
   "execution_count": null,
   "metadata": {
    "_uuid": "a4d960fb7d9644f51d095eae870ce5d6585c0058",
    "collapsed": true
   },
   "outputs": [],
   "source": [
    "a4_dims = (15, 7)\n",
    "fig, ax = plt.subplots(figsize=a4_dims)\n",
    "ax=sns.countplot(x=\"source_system_tab\",data=train_merged,palette=['lightblue','orange','green'],hue=\"target\")\n",
    "plt.xlabel(\"source_screen_tab\")\n",
    "plt.ylabel(\"count\")\n",
    "plt.title(\"source_system_tab vs target \")\n",
    "plt.show()"
   ]
  },
  {
   "cell_type": "markdown",
   "metadata": {
    "_uuid": "48f948f14ab06dc58062688ba12838d16c7b19a7"
   },
   "source": [
    "# new user are coming form discover and my llibrary and old ones are from my library"
   ]
  },
  {
   "cell_type": "code",
   "execution_count": null,
   "metadata": {
    "_uuid": "b2664cc4504b84ae6379a7876123a8c9b6781bfc",
    "collapsed": true
   },
   "outputs": [],
   "source": [
    "a4_dims = (15, 7)\n",
    "fig, ax = plt.subplots(figsize=a4_dims)\n",
    "ax=sns.countplot(x=\"source_screen_name\",data=train_merged,palette=['#A8B820','yellow','#98D8D8'],hue=\"target\")\n",
    "plt.xlabel(\"source_screen_name\")\n",
    "plt.ylabel(\"count\")\n",
    "plt.title(\"source_screen_name vs target \")\n",
    "plt.xticks(rotation='90')\n",
    "plt.show()"
   ]
  },
  {
   "cell_type": "markdown",
   "metadata": {
    "_uuid": "01dc43271949914165e916ff611b70a0b59d9c33"
   },
   "source": [
    "# local playlist among new user and old one more most common way to get back their songs"
   ]
  },
  {
   "cell_type": "code",
   "execution_count": null,
   "metadata": {
    "_uuid": "ebfeb42cc055ffb27221e0412511f564a2e03e6d",
    "collapsed": true
   },
   "outputs": [],
   "source": [
    "a4_dims = (15, 7)\n",
    "fig, ax = plt.subplots(figsize=a4_dims)\n",
    "ax=sns.countplot(x=\"gender\",data=train_merged,palette=['#705898','#7038F8','yellow'],hue=\"target\")\n",
    "plt.xlabel(\"male female participation\")\n",
    "plt.ylabel(\"count\")\n",
    "plt.title(\"male female participation vs target \")\n",
    "plt.xticks(rotation='90')\n",
    "plt.legend(loc='upper left')\n",
    "plt.show()"
   ]
  },
  {
   "cell_type": "markdown",
   "metadata": {
    "_uuid": "b302ac7f55795994e1a0d876719898b46dff5ccc"
   },
   "source": [
    "# new female users are more than male users about 500 to 600"
   ]
  },
  {
   "cell_type": "code",
   "execution_count": null,
   "metadata": {
    "_uuid": "98ab59f5a1cf14ef00a766a9dbdadd9199ae9e50",
    "collapsed": true
   },
   "outputs": [],
   "source": [
    "a4_dims = (15, 7)\n",
    "fig, ax = plt.subplots(figsize=a4_dims)\n",
    "ax=sns.heatmap(data=train_merged.corr(),annot=True,fmt=\".2f\")"
   ]
  },
  {
   "cell_type": "code",
   "execution_count": null,
   "metadata": {
    "_uuid": "f5b289f5d9090ac0ef645e42a805a4e703b54c2e",
    "collapsed": true
   },
   "outputs": [],
   "source": [
    "a4_dims = (15, 7)\n",
    "fig, ax = plt.subplots(figsize=a4_dims)\n",
    "ax=sns.boxplot(x=\"gender\",y=\"city\",data=train_merged,palette=['blue','orange','green'],hue=\"target\")\n",
    "plt.xlabel(\"gender\")\n",
    "plt.ylabel(\"city\")\n",
    "plt.title(\"city vs registered_via  \")\n",
    "plt.show()"
   ]
  },
  {
   "cell_type": "markdown",
   "metadata": {
    "_uuid": "b6d0d6baa8efbaeff97c9cfc014b4357ebe2efef"
   },
   "source": [
    "# here we can see that most of our user are between 5 to 14 no of cities might be female ratio is same "
   ]
  },
  {
   "cell_type": "markdown",
   "metadata": {
    "_uuid": "814505be7e7292fba48da533fde1d410cc15bd73"
   },
   "source": [
    "# avg no of male users are 13 to 15 city no "
   ]
  },
  {
   "cell_type": "code",
   "execution_count": null,
   "metadata": {
    "_uuid": "5dfc3dc42133fa8f9c526cb1a55f85a019716988",
    "collapsed": true
   },
   "outputs": [],
   "source": [
    "ax=sns.lmplot(x=\"bd\",y=\"registered_via\",data=train_merged,palette=['blue','orange','green'],hue=\"target\",fit_reg=False)\n",
    "plt.xlabel(\"bd age group\")\n",
    "plt.ylabel(\"registred_via\")\n",
    "plt.title(\" bd age group vs registration_via \")\n",
    "plt.show()"
   ]
  },
  {
   "cell_type": "markdown",
   "metadata": {
    "_uuid": "d4211f00f86f5d88a050e7938ec6f498ad4bef2b"
   },
   "source": [
    "# now we can see on thing that music users vary age form 0 to 100 we can see here are outliers to in bd but interesting information are that most users age group of younsters and 30+ age group form 5 to 10 registered_via index"
   ]
  },
  {
   "cell_type": "code",
   "execution_count": null,
   "metadata": {
    "_uuid": "44e2e9aaa41ed69414733f1b9fc0ef6aae298b6a",
    "collapsed": true
   },
   "outputs": [],
   "source": [
    "ax=sns.lmplot(x=\"bd\",y=\"city\",data=train_merged,palette=['blue','orange','green'],hue=\"target\",fit_reg=False)\n",
    "plt.xlabel(\"bd age group\")\n",
    "plt.ylabel(\"city\")\n",
    "plt.title(\"bd (age group) vs city \")\n",
    "plt.show()"
   ]
  },
  {
   "cell_type": "markdown",
   "metadata": {
    "_uuid": "12571743221b60b319d5d6d444a831eadc8af9fd"
   },
   "source": [
    "# with outlier as we can we didn't remove till now we will remove bd outliers at final stages before applying Ml but that last results insights are telling we have age group 20 to 30+ ages and city index we most 5 to 14 "
   ]
  },
  {
   "cell_type": "code",
   "execution_count": null,
   "metadata": {
    "_uuid": "3b98a49d3858ef7203a141daee607b3248be48cc",
    "collapsed": true
   },
   "outputs": [],
   "source": [
    "#remomving outlier from bd age group column"
   ]
  },
  {
   "cell_type": "code",
   "execution_count": null,
   "metadata": {
    "_uuid": "14695d38fef40e119083608f46396c7ca707f230",
    "collapsed": true
   },
   "outputs": [],
   "source": [
    "a4_dims = (15, 7)\n",
    "fig, ax = plt.subplots(figsize=a4_dims)\n",
    "ax=sns.boxplot(x=\"bd\",y=\"gender\",data=train_merged,palette=['blue','orange','green'])\n",
    "plt.xlabel(\"bd age group\")\n",
    "plt.ylabel(\"gender\")\n",
    "plt.title(\"bd age group vs gender \")\n",
    "plt.show()"
   ]
  },
  {
   "cell_type": "markdown",
   "metadata": {
    "_uuid": "7097290ce6f6e0c627cb2c946ba0a7a5fe9e03d6"
   },
   "source": [
    "# as we can see that mean age group we have 24 to 27 with max is 50 in female case and in male case 48 about age group is max and  min in female it is about 16 and in male case 18 \n",
    "\n",
    "# one more observation we can see that female outlier are more there reason behind this logic females always tend fill up the things in hurry way because in male we can't see male with 100 , as if this bit funny logic , apart from this it all due unclean data that's it which we have to remove outliers"
   ]
  },
  {
   "cell_type": "code",
   "execution_count": null,
   "metadata": {
    "_uuid": "7db6442ef86e4c078e52a0dfd9211bf55cb2787d",
    "collapsed": true
   },
   "outputs": [],
   "source": [
    "train_merged.describe()\n",
    "def remove_outlier(df_in, col_name):\n",
    "\n",
    "    #q1 = df_in[col_name].quantile(0.25)\n",
    "    #q3 = df_in[col_name].quantile(0.75)\n",
    "    #iqr = q3-q1 #Interquartile range\n",
    "    fence_low  = 12\n",
    "    fence_high = 45\n",
    "    df_out = df_in.loc[(df_in[col_name] > fence_low) & (df_in[col_name] < fence_high)]\n",
    "    return df_out\n",
    "df_final_train=remove_outlier(train_merged,'bd')"
   ]
  },
  {
   "cell_type": "markdown",
   "metadata": {
    "_uuid": "924349bcccf7ae3a4a1f4b787de53515f7ff0144"
   },
   "source": [
    "# i guess we have almost clean data in this data cleanning i used brute force approach as i get 0.75 percentile values as 0 so there is now way taking standard deviations so i used lookup approach to remove outliers special in this bd age group let's hope my system accurarcy don't went down "
   ]
  },
  {
   "cell_type": "markdown",
   "metadata": {
    "_uuid": "7325cbf048d7e220209b71fb641eeda04a023e38"
   },
   "source": [
    "# Now moving toward ML approach or machine learning "
   ]
  },
  {
   "cell_type": "markdown",
   "metadata": {
    "_uuid": "5ed66f25977900d86e029bda6ef66530cac8934b"
   },
   "source": [
    "# I'm Coming ####head - ROHAN (Data Scientist at Databytes Analytics)"
   ]
  },
  {
   "cell_type": "markdown",
   "metadata": {
    "_uuid": "8072a3d3e8dde50da6530ad1e2b3dce30d26421c"
   },
   "source": [
    "# MY approch make machine learn till not get generalize models and i called it S.E.D.A.C.R.O.M.L"
   ]
  },
  {
   "cell_type": "markdown",
   "metadata": {
    "_uuid": "af6043046269347500229f3c3b38dba10b37b7c6"
   },
   "source": [
    "# Clean the test data set"
   ]
  },
  {
   "cell_type": "markdown",
   "metadata": {
    "_uuid": "2cf48a94ed87f9a096a33139e59c7b37c77048e0"
   },
   "source": [
    "# Now we ultimate clean data set "
   ]
  },
  {
   "cell_type": "markdown",
   "metadata": {
    "_uuid": "fb6c2d6b6f1ba0baf3fb40fe59e4d0d8eb2f1ced"
   },
   "source": [
    "# but not yet preprocssed so now preprocssing task  "
   ]
  },
  {
   "cell_type": "markdown",
   "metadata": {
    "_uuid": "deba9fd88f3b56aff6c191d9c9ae3b5b786bd15c"
   },
   "source": [
    "# Why i'm making all the classification with trees only there is reason behind that other trees algos are best for classifications , improving loss function in gradient boosters and xgboost that's why and another more reason like why not svm is not made for this type working , powerfull in case of text audio , images "
   ]
  },
  {
   "cell_type": "code",
   "execution_count": null,
   "metadata": {
    "_uuid": "3293e87d151bc36d4de9adc3972cfcfc60854f9f",
    "collapsed": true
   },
   "outputs": [],
   "source": [
    "# This Python 3 environment comes with many helpful analytics libraries installed\n",
    "# It is defined by the kaggle/python docker image: https://github.com/kaggle/docker-python\n",
    "# For example, here's several helpful packages to load in \n",
    "\n",
    "import numpy as np # linear algebra\n",
    "import pandas as pd # data processing, CSV file I/O (e.g. pd.read_csv)\n",
    "import lightgbm as lgb\n",
    "\n",
    "# Input data files are available in the \"../input/\" directory.\n",
    "# For example, running this (by clicking run or pressing Shift+Enter) will list the files in the input directory\n",
    "\n",
    "from subprocess import check_output\n",
    "print(check_output([\"ls\", \"../input\"]).decode(\"utf8\"))\n",
    "\n",
    "# Any results you write to the current directory are saved as output."
   ]
  },
  {
   "cell_type": "code",
   "execution_count": null,
   "metadata": {
    "_uuid": "3fcd6dd85fc885497c9feed7e3c8c4f4ad489393",
    "collapsed": true
   },
   "outputs": [],
   "source": [
    "print('Loading data...')\n",
    "data_path = '../input/'\n",
    "train = pd.read_csv(data_path + 'train.csv', dtype={'msno' : 'category',\n",
    "                                                'source_system_tab' : 'category',\n",
    "                                                  'source_screen_name' : 'category',\n",
    "                                                  'source_type' : 'category',\n",
    "                                                  'target' : np.uint8,\n",
    "                                                  'song_id' : 'category'})\n",
    "test = pd.read_csv(data_path + 'test.csv', dtype={'msno' : 'category',\n",
    "                                                'source_system_tab' : 'category',\n",
    "                                                'source_screen_name' : 'category',\n",
    "                                                'source_type' : 'category',\n",
    "                                                'song_id' : 'category'})\n",
    "songs = pd.read_csv(data_path + 'songs.csv',dtype={'genre_ids': 'category',\n",
    "                                                  'language' : 'category',\n",
    "                                                  'artist_name' : 'category',\n",
    "                                                  'composer' : 'category',\n",
    "                                                  'lyricist' : 'category',\n",
    "                                                  'song_id' : 'category'})\n",
    "members = pd.read_csv(data_path + 'members.csv',dtype={'city' : 'category',\n",
    "                                                      'bd' : np.uint8,\n",
    "                                                      'gender' : 'category',\n",
    "                                                      'registered_via' : 'category'},\n",
    "                     parse_dates=['registration_init_time','expiration_date'])\n",
    "songs_extra = pd.read_csv(data_path + 'song_extra_info.csv')\n",
    "print('Done loading...')"
   ]
  },
  {
   "cell_type": "code",
   "execution_count": null,
   "metadata": {
    "_uuid": "07dc840439961bbfa5a7630909cbc1ba8caa86a2",
    "collapsed": true
   },
   "outputs": [],
   "source": [
    "song_cols = ['song_id', 'artist_name', 'genre_ids', 'song_length', 'language']\n",
    "train = train.merge(songs[song_cols], on='song_id', how='left')\n",
    "test = test.merge(songs[song_cols], on='song_id', how='left')\n",
    "\n",
    "members['registration_year'] = members['registration_init_time'].apply(lambda x: int(str(x)[0:4]))\n",
    "#members['registration_month'] = members['registration_init_time'].apply(lambda x: int(str(x)[4:6]))\n",
    "#members['registration_date'] = members['registration_init_time'].apply(lambda x: int(str(x)[6:8]))\n",
    "\n",
    "members['expiration_year'] = members['expiration_date'].apply(lambda x: int(str(x)[0:4]))\n",
    "members['expiration_month'] = members['expiration_date'].apply(lambda x: int(str(x)[4:6]))\n",
    "#members['expiration_date'] = members['expiration_date'].apply(lambda x: int(str(x)[6:8]))\n",
    "\n",
    "# exepting some unimportanat features\n",
    "\n",
    "\n",
    "# Convert date to number of days\n",
    "members['membership_days'] = (members['expiration_date'] - members['registration_init_time']).dt.days.astype(int)\n",
    "\n",
    "#members = members.drop(['registration_init_time'], axis=1)\n",
    "#members = members.drop(['expiration_date'], axis=1)"
   ]
  },
  {
   "cell_type": "code",
   "execution_count": null,
   "metadata": {
    "_uuid": "1d4190624943dc9e8702af46c78999b7799fe722",
    "collapsed": true
   },
   "outputs": [],
   "source": [
    "# categorize membership_days \n",
    "members['membership_days'] = members['membership_days']//200\n",
    "members['membership_days'] = members['membership_days'].astype('category')"
   ]
  },
  {
   "cell_type": "code",
   "execution_count": null,
   "metadata": {
    "_uuid": "f02065cbf1a86c867a60644762b2e7af63c33dbe",
    "collapsed": true
   },
   "outputs": [],
   "source": [
    "member_cols = ['msno','city','registered_via', 'registration_year', 'expiration_year', 'membership_days']\n",
    "\n",
    "train = train.merge(members[member_cols], on='msno', how='left')\n",
    "test = test.merge(members[member_cols], on='msno', how='left')\n"
   ]
  },
  {
   "cell_type": "code",
   "execution_count": null,
   "metadata": {
    "_uuid": "4cb37369181ab9782c3b645e616feb4a6df34e2e",
    "collapsed": true
   },
   "outputs": [],
   "source": [
    "train.info()\n"
   ]
  },
  {
   "cell_type": "code",
   "execution_count": null,
   "metadata": {
    "_uuid": "9e541c0f740ada644f7d1f34c90599e5d510e7c0",
    "collapsed": true
   },
   "outputs": [],
   "source": [
    "def isrc_to_year(isrc):\n",
    "    if type(isrc) == str:\n",
    "        if int(isrc[5:7]) > 17:\n",
    "            return int(isrc[5:7])//5\n",
    "        else:\n",
    "            return int(isrc[5:7])//5\n",
    "    else:\n",
    "        return np.nan\n",
    "#categorize song_year per 5years\n",
    "\n",
    "songs_extra['song_year'] = songs_extra['isrc'].apply(isrc_to_year)\n",
    "songs_extra.drop(['isrc', 'name'], axis = 1, inplace = True)"
   ]
  },
  {
   "cell_type": "code",
   "execution_count": null,
   "metadata": {
    "_uuid": "01d3d0184bede2f353afcf866f90bd2538840ae3",
    "collapsed": true
   },
   "outputs": [],
   "source": [
    "train = train.merge(songs_extra, on = 'song_id', how = 'left')\n",
    "test = test.merge(songs_extra, on = 'song_id', how = 'left')\n"
   ]
  },
  {
   "cell_type": "code",
   "execution_count": null,
   "metadata": {
    "_uuid": "af4bdf9f07eaaf1a4c61d510d58760a8abace088",
    "collapsed": true
   },
   "outputs": [],
   "source": [
    "train['genre_ids'] = train['genre_ids'].str.split('|').str[0]"
   ]
  },
  {
   "cell_type": "code",
   "execution_count": null,
   "metadata": {
    "_uuid": "fa3244921ff609b34a79bf8dc364551c297a6560",
    "collapsed": true
   },
   "outputs": [],
   "source": [
    "temp_song_length = train['song_length']"
   ]
  },
  {
   "cell_type": "code",
   "execution_count": null,
   "metadata": {
    "_uuid": "ad335e22b1b24c6713cfc85943893b859bf3a9dd",
    "collapsed": true
   },
   "outputs": [],
   "source": [
    "train.drop('song_length', axis = 1, inplace = True)\n",
    "test.drop('song_length',axis = 1 , inplace =True)"
   ]
  },
  {
   "cell_type": "code",
   "execution_count": null,
   "metadata": {
    "_uuid": "cfdfc4dcc5c769b402a4432299b4f1bc0fe72425",
    "collapsed": true
   },
   "outputs": [],
   "source": [
    "train.head()"
   ]
  },
  {
   "cell_type": "code",
   "execution_count": null,
   "metadata": {
    "_uuid": "4b63beab3f3040806f6c4198377fa5966bfaff17",
    "collapsed": true
   },
   "outputs": [],
   "source": [
    "song_count = train.loc[:,[\"song_id\",\"target\"]]\n",
    "\n",
    "# measure repeat count by played songs\n",
    "song_count1 = song_count.groupby([\"song_id\"],as_index=False).sum().rename(columns={\"target\":\"repeat_count\"})\n",
    "\n",
    "# count play count by songs\n",
    "song_count2 = song_count.groupby([\"song_id\"],as_index=False).count().rename(columns = {\"target\":\"play_count\"})"
   ]
  },
  {
   "cell_type": "code",
   "execution_count": null,
   "metadata": {
    "_uuid": "86782119bbc472e097c23c09d2aaeab0a81b6245",
    "collapsed": true
   },
   "outputs": [],
   "source": [
    "song_repeat = song_count1.merge(song_count2,how=\"inner\",on=\"song_id\")\n",
    "song_repeat[\"repeat_percentage\"] = round((song_repeat['repeat_count']*100) / song_repeat['play_count'],1)\n",
    "song_repeat['repeat_count'] = song_repeat['repeat_count'].astype('int')\n",
    "song_repeat['repeat_percentage'] = song_repeat['repeat_percentage'].replace(100.0,np.nan)\n",
    "#cuz most of 100.0 are played=1 repeated=1 values. I think it is not fair compare with other played a lot songs"
   ]
  },
  {
   "cell_type": "code",
   "execution_count": null,
   "metadata": {
    "_uuid": "85c0b30c7c0ba22e8a82fada3cec9c686a1b503a",
    "collapsed": true
   },
   "outputs": [],
   "source": [
    "train = train.merge(song_repeat,on=\"song_id\",how=\"left\")\n",
    "test = test.merge(song_repeat,on=\"song_id\",how=\"left\")"
   ]
  },
  {
   "cell_type": "code",
   "execution_count": null,
   "metadata": {
    "_uuid": "7739f1fc1058ae3d47d8afa0ec5b1fa422dfd5db",
    "collapsed": true
   },
   "outputs": [],
   "source": [
    "# type cast\n",
    "test['song_id'] = test['song_id'].astype('category')\n",
    "test['repeat_count'] = test['repeat_count'].fillna(0)\n",
    "test['repeat_count'] = test['repeat_count'].astype('int')\n",
    "test['play_count'] = test['play_count'].fillna(0)\n",
    "test['play_count'] = test['play_count'].astype('int')\n",
    "#train['repeat_percentage'].replace(100.0,np.nan)\n"
   ]
  },
  {
   "cell_type": "code",
   "execution_count": null,
   "metadata": {
    "_uuid": "1ca7d788b98a728c301edd7606c769ba723ee961",
    "collapsed": true
   },
   "outputs": [],
   "source": [
    "artist_count = train.loc[:,[\"artist_name\",\"target\"]]\n",
    "\n",
    "# measure repeat count by played songs\n",
    "artist_count1 = artist_count.groupby([\"artist_name\"],as_index=False).sum().rename(columns={\"target\":\"repeat_count_artist\"})\n",
    "\n",
    "# measure play count by songs\n",
    "artist_count2 = artist_count.groupby([\"artist_name\"],as_index=False).count().rename(columns = {\"target\":\"play_count_artist\"})\n",
    "\n",
    "artist_repeat = artist_count1.merge(artist_count2,how=\"inner\",on=\"artist_name\")\n"
   ]
  },
  {
   "cell_type": "code",
   "execution_count": null,
   "metadata": {
    "_uuid": "34c4bd7ed12f945bbd5c01db254cbc017921f318",
    "collapsed": true
   },
   "outputs": [],
   "source": [
    "artist_repeat[\"repeat_percentage_artist\"] = round((artist_repeat['repeat_count_artist']*100) / artist_repeat['play_count_artist'],1)\n",
    "artist_repeat['repeat_count_artist'] = artist_repeat['repeat_count_artist'].fillna(0)\n",
    "artist_repeat['repeat_count_artist'] = artist_repeat['repeat_count_artist'].astype('int')\n",
    "artist_repeat['repeat_percentage_artist'] = artist_repeat['repeat_percentage_artist'].replace(100.0,np.nan)"
   ]
  },
  {
   "cell_type": "code",
   "execution_count": null,
   "metadata": {
    "_uuid": "5d78f6503b5357fb01df2c18e6085d9c5f00224f",
    "collapsed": true
   },
   "outputs": [],
   "source": [
    "#use only repeat_percentage_artist\n",
    "del artist_repeat['repeat_count_artist']\n",
    "#del artist_repeat['play_count_artist']"
   ]
  },
  {
   "cell_type": "markdown",
   "metadata": {
    "_uuid": "1c72828ecf2a19e9ef72c9a13be967ce62137329"
   },
   "source": [
    "# so we can decision tree was much better than extra trees classifier"
   ]
  },
  {
   "cell_type": "code",
   "execution_count": null,
   "metadata": {
    "_uuid": "0a2e466b0299f9a70ffc56f5870ac1b88721296a",
    "collapsed": true
   },
   "outputs": [],
   "source": [
    "#merge it with artist_name to train dataframe\n",
    "train = train.merge(artist_repeat,on=\"artist_name\",how=\"left\")\n",
    "test = test.merge(artist_repeat,on=\"artist_name\",how=\"left\")"
   ]
  },
  {
   "cell_type": "markdown",
   "metadata": {
    "_uuid": "18be3ae04de4a0e7bd6b3ba7569b55730b6bc673"
   },
   "source": [
    "# here decision tree at it's final showoff can expect too much from this one \n"
   ]
  },
  {
   "cell_type": "code",
   "execution_count": null,
   "metadata": {
    "_uuid": "9771719e3c7638670a2aa1da3a1e3b63d18967af",
    "collapsed": true
   },
   "outputs": [],
   "source": [
    "train.info()"
   ]
  },
  {
   "cell_type": "code",
   "execution_count": null,
   "metadata": {
    "_uuid": "119f95de3c8350474c017551fb593656d615879e",
    "collapsed": true
   },
   "outputs": [],
   "source": [
    "del train['artist_name']\n",
    "del test['artist_name']"
   ]
  },
  {
   "cell_type": "code",
   "execution_count": null,
   "metadata": {
    "_uuid": "e102c2d45f17b79304e6864c6b30d294cdf0eb6d",
    "collapsed": true
   },
   "outputs": [],
   "source": [
    "msno_count = train.loc[:,[\"msno\",\"target\"]]\n",
    "\n",
    "# count repeat count by played songs\n",
    "msno_count1 = msno_count.groupby([\"msno\"],as_index=False).sum().rename(columns={\"target\":\"repeat_count_msno\"})\n",
    "\n",
    "# count play count by songs\n",
    "msno_count2 = msno_count.groupby([\"msno\"],as_index=False).count().rename(columns = {\"target\":\"play_count_msno\"})\n",
    "\n",
    "msno_repeat = msno_count1.merge(msno_count2,how=\"inner\",on=\"msno\")"
   ]
  },
  {
   "cell_type": "code",
   "execution_count": null,
   "metadata": {
    "_uuid": "1c4e0729d72e5211aae20873b2aaf28cd7bed1eb",
    "collapsed": true
   },
   "outputs": [],
   "source": [
    "msno_repeat[\"repeat_percentage_msno\"] = round((msno_repeat['repeat_count_msno']*100) / msno_repeat['play_count_msno'],1)\n",
    "msno_repeat['repeat_count_msno'] = msno_repeat['repeat_count_msno'].fillna(0)\n",
    "msno_repeat['repeat_count_msno'] = msno_repeat['repeat_count_msno'].astype('int')\n",
    "#msno_repeat['repeat_percentage_msno'] = msno_repeat['repeat_percentage_msno'].replace(100.0,np.nan)\n",
    "# it can be meaningful so do not erase 100.0 "
   ]
  },
  {
   "cell_type": "code",
   "execution_count": null,
   "metadata": {
    "_uuid": "8309bc9a9a12d19cd47086b6e9e45aca5240664e",
    "collapsed": true
   },
   "outputs": [],
   "source": [
    "#merge it with msno to train dataframe\n",
    "train = train.merge(msno_repeat,on=\"msno\",how=\"left\")\n",
    "test = test.merge(msno_repeat,on=\"msno\",how=\"left\")\n"
   ]
  },
  {
   "cell_type": "code",
   "execution_count": null,
   "metadata": {
    "_uuid": "175b2b8fbfa0da7222bdaf89ec604bd79214e456",
    "collapsed": true
   },
   "outputs": [],
   "source": [
    "import gc\n",
    "#del members, songs; gc.collect();\n",
    "\n",
    "for col in train.columns:\n",
    "    if train[col].dtype == object:\n",
    "        train[col] = train[col].astype('category')\n",
    "        test[col] = test[col].astype('category')"
   ]
  },
  {
   "cell_type": "code",
   "execution_count": null,
   "metadata": {
    "_uuid": "a3c5d9e1275e464f720623e0dde822a725b6760b",
    "collapsed": true
   },
   "outputs": [],
   "source": [
    "train['song_year'] = train['song_year'].astype('category')\n",
    "test['song_year'] = test['song_year'].astype('category')"
   ]
  },
  {
   "cell_type": "code",
   "execution_count": null,
   "metadata": {
    "_uuid": "a34fe45c0872da99e47b9f9f3fab269cca2aea57",
    "collapsed": true
   },
   "outputs": [],
   "source": [
    "train.head()"
   ]
  },
  {
   "cell_type": "code",
   "execution_count": null,
   "metadata": {
    "_uuid": "138376d93aa922b3ce4902baf25b7bcec72ef338",
    "collapsed": true
   },
   "outputs": [],
   "source": [
    "drop_list = ['repeat_count','repeat_percentage',\n",
    "             'repeat_percentage_artist',\n",
    "             'repeat_count_msno','repeat_percentage_msno'\n",
    "            ]\n",
    "train = train.drop(drop_list,axis=1)\n",
    "test = test.drop(drop_list,axis=1)"
   ]
  },
  {
   "cell_type": "markdown",
   "metadata": {
    "_uuid": "59f8b78fefbd2915e04cc886e91919b9435052d9"
   },
   "source": [
    "# as we can see that accuracy is more but still auc_score is very less "
   ]
  },
  {
   "cell_type": "code",
   "execution_count": null,
   "metadata": {
    "_uuid": "3ece59dd45231cf60e61dbc7486ba6732c38311e",
    "collapsed": true
   },
   "outputs": [],
   "source": [
    "test['play_count_msno'] = test['play_count_msno'].fillna(0)\n",
    "test['play_count_msno'] = test['play_count_msno'].astype('int')\n",
    "\n",
    "\n",
    "train['play_count_artist'] = train['play_count_artist'].fillna(0)\n",
    "test['play_count_artist'] = test['play_count_artist'].fillna(0)\n",
    "train['play_count_artist'] = train['play_count_artist'].astype('int')\n",
    "test['play_count_artist'] = test['play_count_artist'].astype('int')\n"
   ]
  },
  {
   "cell_type": "code",
   "execution_count": null,
   "metadata": {
    "_uuid": "df99e88c90e5c0a3629287b26025591a557aaa4a",
    "collapsed": true
   },
   "outputs": [],
   "source": [
    "from sklearn.model_selection import KFold\n",
    "# Create a Cross Validation with 3 splits\n",
    "kf = KFold(n_splits=3)\n",
    "\n",
    "predictions = np.zeros(shape=[len(test)])\n",
    "\n",
    "# For each KFold\n",
    "for train_indices ,validate_indices in kf.split(train) : \n",
    "    train_data = lgb.Dataset(train.drop(['target'],axis=1).loc[train_indices,:],label=train.loc[train_indices,'target'])\n",
    "    val_data = lgb.Dataset(train.drop(['target'],axis=1).loc[validate_indices,:],label=train.loc[validate_indices,'target'])\n",
    "\n",
    "    params = {\n",
    "            'objective': 'binary',\n",
    "            'boosting': 'gbdt',\n",
    "            'learning_rate': 0.2 ,\n",
    "            'verbose': 0,\n",
    "            'num_leaves': 2**8,\n",
    "            'bagging_fraction': 0.95,\n",
    "            'bagging_freq': 1,\n",
    "            'bagging_seed': 1,\n",
    "            'feature_fraction': 0.9,\n",
    "            'feature_fraction_seed': 1,\n",
    "            'max_bin': 256,\n",
    "            'num_rounds': 80,\n",
    "            'metric' : 'auc'\n",
    "        }\n",
    "    # Train the model    \n",
    "    lgbm_model = lgb.train(params, train_data, 100, valid_sets=[val_data])\n",
    "    predictions += lgbm_model.predict(test.drop(['id'],axis=1))\n",
    "    del lgbm_model\n",
    "    # We get the ammount of predictions from the prediction list, by dividing the predictions by the number of Kfolds.\n",
    "predictions = predictions/3\n",
    "\n",
    "INPUT_DATA_PATH = '../input/'\n",
    "\n",
    "# Read the sample_submission CSV\n",
    "submission = pd.read_csv(INPUT_DATA_PATH + '/sample_submission.csv')\n",
    "# Set the target to our predictions\n",
    "submission.target=predictions\n",
    "# Save the submission file\n",
    "submission.to_csv('submission.csv',index=False)"
   ]
  }
 ],
 "metadata": {
  "kernelspec": {
   "display_name": "Python 3",
   "language": "python",
   "name": "python3"
  },
  "language_info": {
   "codemirror_mode": {
    "name": "ipython",
    "version": 3
   },
   "file_extension": ".py",
   "mimetype": "text/x-python",
   "name": "python",
   "nbconvert_exporter": "python",
   "pygments_lexer": "ipython3",
   "version": "3.7.6"
  }
 },
 "nbformat": 4,
 "nbformat_minor": 1
}
